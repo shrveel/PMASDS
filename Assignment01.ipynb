{
  "nbformat": 4,
  "nbformat_minor": 0,
  "metadata": {
    "colab": {
      "provenance": [],
      "authorship_tag": "ABX9TyNp60L7Lrgmz+vJTcS53SwJ",
      "include_colab_link": true
    },
    "kernelspec": {
      "name": "python3",
      "display_name": "Python 3"
    },
    "language_info": {
      "name": "python"
    }
  },
  "cells": [
    {
      "cell_type": "markdown",
      "metadata": {
        "id": "view-in-github",
        "colab_type": "text"
      },
      "source": [
        "<a href=\"https://colab.research.google.com/github/shrveel/PMASDS/blob/main/Assignment01.ipynb\" target=\"_parent\"><img src=\"https://colab.research.google.com/assets/colab-badge.svg\" alt=\"Open In Colab\"/></a>"
      ]
    },
    {
      "cell_type": "markdown",
      "source": [
        "**PMASDS_data_science_in_python**\n",
        "\n",
        "---\n",
        "\n"
      ],
      "metadata": {
        "id": "l6v7Wo9TUu8z"
      }
    },
    {
      "cell_type": "markdown",
      "source": [
        "assignment 01\n",
        "Course: **WMASDS04**-Introduction to Data Science with Python\n",
        "\n",
        "Instructor: **Farhana Afrin Duty**, Department of Statistics, JU"
      ],
      "metadata": {
        "id": "Pff8e-wFVUhV"
      }
    },
    {
      "cell_type": "markdown",
      "source": [
        "**Variables**\n",
        "\n",
        "---\n",
        "\n"
      ],
      "metadata": {
        "id": "rjLl0DlkVOS5"
      }
    },
    {
      "cell_type": "code",
      "source": [
        "# a_input fun()\n",
        "\n",
        "x = float(input(\"type a num : \"))"
      ],
      "metadata": {
        "colab": {
          "base_uri": "https://localhost:8080/"
        },
        "id": "JcbtVR3D3VU9",
        "outputId": "f870a470-dcef-47c7-bd7d-c9274ef2d4cb"
      },
      "execution_count": null,
      "outputs": [
        {
          "name": "stdout",
          "output_type": "stream",
          "text": [
            "type a num : 5.5\n"
          ]
        }
      ]
    },
    {
      "cell_type": "code",
      "source": [
        "# b_type of x\n",
        "\n",
        "type(x)"
      ],
      "metadata": {
        "colab": {
          "base_uri": "https://localhost:8080/"
        },
        "id": "5_VoYS2C4jxr",
        "outputId": "665c45cf-92cf-4a65-8374-8d65b307a93a"
      },
      "execution_count": null,
      "outputs": [
        {
          "output_type": "execute_result",
          "data": {
            "text/plain": [
              "float"
            ]
          },
          "metadata": {},
          "execution_count": 9
        }
      ]
    },
    {
      "cell_type": "code",
      "source": [
        "# c_converting to another type\n",
        "\n",
        "y = int(x)\n",
        "print(y)\n",
        "type(y)   #explicit typecasting"
      ],
      "metadata": {
        "colab": {
          "base_uri": "https://localhost:8080/"
        },
        "id": "DT4hFqDS6otp",
        "outputId": "80cacea9-bd7f-4b4c-934f-2d3e34ecb45b"
      },
      "execution_count": null,
      "outputs": [
        {
          "output_type": "stream",
          "name": "stdout",
          "text": [
            "5\n"
          ]
        },
        {
          "output_type": "execute_result",
          "data": {
            "text/plain": [
              "int"
            ]
          },
          "metadata": {},
          "execution_count": 13
        }
      ]
    },
    {
      "cell_type": "code",
      "source": [
        "#x = 10.10 #implicit typecasting\n",
        "#type(x)"
      ],
      "metadata": {
        "id": "4lD7-TEL8VGf"
      },
      "execution_count": null,
      "outputs": []
    },
    {
      "cell_type": "code",
      "source": [
        "# d_conversion into float\n",
        "\n",
        "z = float(y)\n",
        "print(z)\n",
        "type(z)"
      ],
      "metadata": {
        "colab": {
          "base_uri": "https://localhost:8080/"
        },
        "id": "adj801sC8jS3",
        "outputId": "7ce92661-7898-42c7-a6e2-bd9eb3c7a729"
      },
      "execution_count": null,
      "outputs": [
        {
          "output_type": "stream",
          "name": "stdout",
          "text": [
            "5.0\n"
          ]
        },
        {
          "output_type": "execute_result",
          "data": {
            "text/plain": [
              "float"
            ]
          },
          "metadata": {},
          "execution_count": 17
        }
      ]
    },
    {
      "cell_type": "code",
      "source": [
        "# e_display data type\n",
        "\n",
        "type(x)\n"
      ],
      "metadata": {
        "colab": {
          "base_uri": "https://localhost:8080/"
        },
        "id": "cJXbT5yW9C6r",
        "outputId": "2394ce93-39ff-4bd0-bd87-7b70ab9c42f7"
      },
      "execution_count": null,
      "outputs": [
        {
          "output_type": "execute_result",
          "data": {
            "text/plain": [
              "float"
            ]
          },
          "metadata": {},
          "execution_count": 21
        }
      ]
    },
    {
      "cell_type": "code",
      "source": [
        "type(y)"
      ],
      "metadata": {
        "colab": {
          "base_uri": "https://localhost:8080/"
        },
        "id": "BLoZakM99tK6",
        "outputId": "609c9baa-3fa0-4067-97be-cf24aded7155"
      },
      "execution_count": null,
      "outputs": [
        {
          "output_type": "execute_result",
          "data": {
            "text/plain": [
              "int"
            ]
          },
          "metadata": {},
          "execution_count": 22
        }
      ]
    },
    {
      "cell_type": "code",
      "source": [
        "type(z)"
      ],
      "metadata": {
        "colab": {
          "base_uri": "https://localhost:8080/"
        },
        "id": "_ytVRupV9zCy",
        "outputId": "176c99f8-6f6f-4be7-dedc-8f7e573f04b7"
      },
      "execution_count": null,
      "outputs": [
        {
          "output_type": "execute_result",
          "data": {
            "text/plain": [
              "float"
            ]
          },
          "metadata": {},
          "execution_count": 23
        }
      ]
    },
    {
      "cell_type": "markdown",
      "source": [
        "**Strings**\n",
        "\n",
        "---\n",
        "\n"
      ],
      "metadata": {
        "id": "P83rugNBVe0Q"
      }
    },
    {
      "cell_type": "code",
      "source": [
        "# a_ calculating the length of string\n",
        "\n",
        "str = \"I Love JU PMASDS\"\n",
        "\n",
        "len(str)    "
      ],
      "metadata": {
        "colab": {
          "base_uri": "https://localhost:8080/"
        },
        "id": "V2K0CD1kVk2t",
        "outputId": "44282997-f96b-4e7f-93f0-2b07bb4825e1"
      },
      "execution_count": null,
      "outputs": [
        {
          "output_type": "execute_result",
          "data": {
            "text/plain": [
              "16"
            ]
          },
          "metadata": {},
          "execution_count": 7
        }
      ]
    },
    {
      "cell_type": "code",
      "source": [
        "# b_count the number of string\n",
        "\n",
        "x = str.count(\"I Love JU PMASDS\")\n",
        "print(x)"
      ],
      "metadata": {
        "colab": {
          "base_uri": "https://localhost:8080/"
        },
        "id": "-n3du75_XPYL",
        "outputId": "d416d9c1-ff3c-42b7-be67-e1ff8c7d491d"
      },
      "execution_count": null,
      "outputs": [
        {
          "output_type": "stream",
          "name": "stdout",
          "text": [
            "1\n"
          ]
        }
      ]
    },
    {
      "cell_type": "code",
      "source": [
        "# c_indexing and slicing\n",
        "\n",
        "print(str[7:])   \n",
        "print(str[0:6])\n",
        "print(str[7:9])"
      ],
      "metadata": {
        "colab": {
          "base_uri": "https://localhost:8080/"
        },
        "id": "RIXTB7snhbRS",
        "outputId": "6a6dbba2-54c0-4006-b64e-a0306604aec2"
      },
      "execution_count": null,
      "outputs": [
        {
          "output_type": "stream",
          "name": "stdout",
          "text": [
            "JU PMASDS\n",
            "I Love\n",
            "JU\n"
          ]
        }
      ]
    },
    {
      "cell_type": "code",
      "source": [
        "# d_remove the odd string\n",
        "\n",
        "print(str)\n",
        "\n",
        "for i in range(len(str)):\n",
        "  if(i%2 == 0):\n",
        "    new_str = new_str + str[i]\n",
        "\n",
        "print(new_str)\n"
      ],
      "metadata": {
        "colab": {
          "base_uri": "https://localhost:8080/"
        },
        "id": "Ly8wgaR_iThX",
        "outputId": "7cfe4b8c-177f-46a3-b193-16393f1af2d5"
      },
      "execution_count": null,
      "outputs": [
        {
          "output_type": "stream",
          "name": "stdout",
          "text": [
            "I Love JU PMASDS\n",
            "ILv UPADILv UPAD\n"
          ]
        }
      ]
    },
    {
      "cell_type": "code",
      "source": [
        "# e_taking input & manipulate in UPPER LOWER\n",
        "\n",
        "txt = input(\"type anything here :  \")\n",
        "print(txt)\n",
        "\n",
        "print(txt.upper())\n",
        "\n",
        "print(txt.lower())\n"
      ],
      "metadata": {
        "colab": {
          "base_uri": "https://localhost:8080/"
        },
        "id": "5Hr2dZdskPB7",
        "outputId": "ff89b67b-ce01-449d-ece2-3344d6dd4600"
      },
      "execution_count": null,
      "outputs": [
        {
          "output_type": "stream",
          "name": "stdout",
          "text": [
            "type anything here :  gvosflvuVUVYUVUOV\n",
            "gvosflvuVUVYUVUOV\n",
            "GVOSFLVUVUVYUVUOV\n",
            "gvosflvuvuvyuvuov\n"
          ]
        }
      ]
    },
    {
      "cell_type": "code",
      "source": [
        "# f_sorting a string using tuple\n",
        "\n",
        "str = \"2124412\"\n",
        "\n",
        "sorted_str = sorted(str)\n",
        "\n",
        "print(sorted_str)\n"
      ],
      "metadata": {
        "colab": {
          "base_uri": "https://localhost:8080/"
        },
        "id": "q10lxF6L-WSQ",
        "outputId": "4c2a2af8-961a-4af2-e65b-3c2cb1afafcd"
      },
      "execution_count": null,
      "outputs": [
        {
          "output_type": "stream",
          "name": "stdout",
          "text": [
            "['1', '1', '2', '2', '2', '4', '4']\n"
          ]
        }
      ]
    },
    {
      "cell_type": "code",
      "source": [
        "# g_reverse a string/slicing a string\n",
        "\n",
        "str = \"JU HAS A BEAUTIFUL CAMPUS\"\n",
        "\n",
        "print(str)\n",
        "\n",
        "print(str[9:])\n",
        "\n",
        "print(str[::-1])\n",
        "\n"
      ],
      "metadata": {
        "colab": {
          "base_uri": "https://localhost:8080/"
        },
        "id": "iO5mGWSi2BIh",
        "outputId": "4f2dff5e-5fc8-47f4-bff4-df36cf3fdb73"
      },
      "execution_count": null,
      "outputs": [
        {
          "output_type": "stream",
          "name": "stdout",
          "text": [
            "JU HAS A BEAUTIFUL CAMPUS\n",
            "BEAUTIFUL CAMPUS\n",
            "SUPMAC LUFITUAEB A SAH UJ\n"
          ]
        }
      ]
    },
    {
      "cell_type": "code",
      "source": [
        "# h_converting a string into a list\n",
        "\n",
        "def convert(str):\n",
        " new_list= list(str.split(\" \"))\n",
        " return new_list\n",
        "\n",
        "str = \"JU has a beautiful campus\"\n",
        "print(convert(str))\n"
      ],
      "metadata": {
        "colab": {
          "base_uri": "https://localhost:8080/"
        },
        "id": "MtR-lMJP4IoA",
        "outputId": "678ddeaa-e22b-45d4-aac1-84c7d801db94"
      },
      "execution_count": null,
      "outputs": [
        {
          "output_type": "stream",
          "name": "stdout",
          "text": [
            "['JU', 'has', 'a', 'beautiful', 'campus']\n"
          ]
        }
      ]
    },
    {
      "cell_type": "markdown",
      "source": [
        "**Lists**\n",
        "\n",
        "---\n",
        "\n"
      ],
      "metadata": {
        "id": "-5wwowchtetk"
      }
    },
    {
      "cell_type": "code",
      "source": [
        "# a_sum all the elements in the list\n",
        "\n",
        "lst = [1, 3, 6, -5]\n",
        "\n",
        "def sum_list(lst):\n",
        "  sum = 0\n",
        "  for i in lst:\n",
        "    sum += i\n",
        "  return sum\n",
        "\n",
        "print(sum_list(lst))"
      ],
      "metadata": {
        "colab": {
          "base_uri": "https://localhost:8080/"
        },
        "id": "7wdy8FpyErAZ",
        "outputId": "6d707acd-09c0-498d-f77b-84477b414f1b"
      },
      "execution_count": null,
      "outputs": [
        {
          "output_type": "stream",
          "name": "stdout",
          "text": [
            "5\n"
          ]
        }
      ]
    },
    {
      "cell_type": "code",
      "source": [
        "# b_largest/smallest using max()/min() fun\n",
        "\n",
        "lst1 = []\n",
        "for i in range(5):\n",
        "  lst1.append(int(input(\"type numbers \")))\n",
        "\n",
        "print(\"max value is \", max(lst1))\n",
        "print(\"min value is \", min(lst1))"
      ],
      "metadata": {
        "colab": {
          "base_uri": "https://localhost:8080/"
        },
        "id": "E6AyysYzJVPy",
        "outputId": "bf616b5d-ff7e-443f-e889-d3873d06cba5"
      },
      "execution_count": null,
      "outputs": [
        {
          "output_type": "stream",
          "name": "stdout",
          "text": [
            "type numbers 2\n",
            "type numbers 3\n",
            "type numbers 6\n",
            "type numbers 0\n",
            "type numbers 1\n",
            "max value is  6\n",
            "min value is  0\n"
          ]
        }
      ]
    },
    {
      "cell_type": "code",
      "source": [
        "# c_list after romoving even numbers\n",
        "\n",
        "lst = [2, 5, 7, 12, 16, 21, 39, 55, 100]\n",
        "new_list = []\n",
        "for i in lst:\n",
        "  if(i%2 != 0):\n",
        "    print(i)          \n",
        "    new_list.append(i)    #optional\n",
        "  else:\n",
        "    pass\n",
        "print(new_list)"
      ],
      "metadata": {
        "colab": {
          "base_uri": "https://localhost:8080/"
        },
        "id": "_Z2xqfTeU5q9",
        "outputId": "c9a154ae-9554-4348-add7-d8102b6e284d"
      },
      "execution_count": null,
      "outputs": [
        {
          "output_type": "stream",
          "name": "stdout",
          "text": [
            "5\n",
            "7\n",
            "21\n",
            "39\n",
            "55\n",
            "[5, 7, 21, 39, 55]\n"
          ]
        }
      ]
    },
    {
      "cell_type": "code",
      "source": [
        "# d_selectiong odd numbers\n",
        "\n",
        "lst = [2, 5, 7, 12, 16, 21, 39, 55, 100]\n",
        "new_list = []\n",
        "for i in lst:\n",
        "  if(i%2 != 0):\n",
        "    print(i)          #optional\n",
        "    new_list.append(i)\n",
        "  else:\n",
        "    pass\n",
        "print(new_list)"
      ],
      "metadata": {
        "colab": {
          "base_uri": "https://localhost:8080/"
        },
        "id": "OW642NOoXGUL",
        "outputId": "692b2ede-bad9-4543-f9c2-315ce506ef1a"
      },
      "execution_count": null,
      "outputs": [
        {
          "output_type": "stream",
          "name": "stdout",
          "text": [
            "5\n",
            "7\n",
            "21\n",
            "39\n",
            "55\n",
            "[5, 7, 21, 39, 55]\n"
          ]
        }
      ]
    },
    {
      "cell_type": "code",
      "source": [
        "# e_converting a list into a string\n",
        "\n",
        "lst = ['benzema', \"vinicius\", 'valverde', 'alaba']\n",
        "test_str = ' '            #extra string as container\n",
        "str = test_str.join(lst)  #str = \" \".join(lst)\n",
        "\n",
        "print(str)"
      ],
      "metadata": {
        "colab": {
          "base_uri": "https://localhost:8080/"
        },
        "id": "5PCeZKSj2IIS",
        "outputId": "672bd192-422e-4f88-e053-0178a14a1a3e"
      },
      "execution_count": null,
      "outputs": [
        {
          "output_type": "stream",
          "name": "stdout",
          "text": [
            "benzema vinicius valverde alaba\n"
          ]
        }
      ]
    },
    {
      "cell_type": "code",
      "source": [
        "# f_index of an item in a list\n",
        "\n",
        "print(lst)\n",
        "\n",
        "print(lst.index('benzema'))"
      ],
      "metadata": {
        "colab": {
          "base_uri": "https://localhost:8080/"
        },
        "id": "je3mF1aL33Tt",
        "outputId": "67f976c1-5036-44ee-df26-37867b84fac8"
      },
      "execution_count": null,
      "outputs": [
        {
          "output_type": "stream",
          "name": "stdout",
          "text": [
            "['benzema', 'vinicius', 'valverde', 'alaba']\n",
            "0\n"
          ]
        }
      ]
    },
    {
      "cell_type": "code",
      "source": [
        "# g_adding two lists\n",
        "\n",
        "print(lst)\n",
        "lst_2nd = ['real madrid', 'mancity', 'chelsea', 'arsenal']\n",
        "print(lst_2nd)\n",
        "\n",
        "final_lst = lst + lst_2nd\n",
        "print(final_lst)\n"
      ],
      "metadata": {
        "colab": {
          "base_uri": "https://localhost:8080/"
        },
        "id": "MXZJjL7K4VrB",
        "outputId": "2a4a67c6-216d-4416-bde8-b49a0970f6bc"
      },
      "execution_count": null,
      "outputs": [
        {
          "output_type": "stream",
          "name": "stdout",
          "text": [
            "['benzema', 'vinicius', 'valverde', 'alaba']\n",
            "['real madrid', 'mancity', 'chelsea', 'arsenal']\n",
            "['benzema', 'vinicius', 'valverde', 'alaba', 'real madrid', 'mancity', 'chelsea', 'arsenal']\n"
          ]
        }
      ]
    },
    {
      "cell_type": "code",
      "source": [
        "# h_unique list\n",
        "\n",
        "lst_1 = [10, 10, 20, 20, 20, 30, 40, 40, 50, 50, 50]\n",
        "\n",
        "def unique(lst_1):\n",
        "\n",
        "  unique_list = []          #container\n",
        "\n",
        "  for x in lst_1:\n",
        "    if x not in unique_list:\n",
        "      unique_list.append(x)\n",
        "      print(unique_list)\n",
        "\n",
        "  for x in unique_list:\n",
        "    print (x)\n",
        "    \n",
        "#driver code\n",
        "print(\"the unique list is : \") \n",
        "unique(lst_1)\n"
      ],
      "metadata": {
        "colab": {
          "base_uri": "https://localhost:8080/"
        },
        "id": "aeILnmdXJ7DG",
        "outputId": "2716707a-f073-4daf-f617-e2b4c8f9a489"
      },
      "execution_count": null,
      "outputs": [
        {
          "output_type": "stream",
          "name": "stdout",
          "text": [
            "the unique list is : \n",
            "[10]\n",
            "[10, 20]\n",
            "[10, 20, 30]\n",
            "[10, 20, 30, 40]\n",
            "[10, 20, 30, 40, 50]\n",
            "10\n",
            "20\n",
            "30\n",
            "40\n",
            "50\n"
          ]
        }
      ]
    },
    {
      "cell_type": "code",
      "source": [
        "# i_frequency greater than k\n",
        "\n",
        "test_list = [4, 6, 4, 3, 3, 4, 3, 7, 8, 8]\n",
        "\n",
        "k = 2\n",
        "\n",
        "res = []\n",
        "\n",
        "for i in test_list:\n",
        "  freq = test_list.count(i)\n",
        "\n",
        "  if freq > k and i not in res:\n",
        "    res.append(i)\n",
        "\n",
        "print(\"required elements : \", (res))\n",
        "\n"
      ],
      "metadata": {
        "colab": {
          "base_uri": "https://localhost:8080/"
        },
        "id": "cGr2j0fIRk5_",
        "outputId": "21d8d005-02ff-489a-8cf2-a50ad93d8a0b"
      },
      "execution_count": null,
      "outputs": [
        {
          "output_type": "stream",
          "name": "stdout",
          "text": [
            "required elements :  [4, 3]\n"
          ]
        }
      ]
    },
    {
      "cell_type": "code",
      "source": [
        "# j_reversing a sting list\n",
        "\n",
        "test_list = [\"life\", \"is\", \"too\", \"short\"]\n",
        " \n",
        "# printing original list\n",
        "print (\"The original list is : \", (test_list))\n",
        " \n",
        "# Reverse All Strings in String List\n",
        "res = [i[::-1] for i in test_list]\n",
        " \n",
        "# printing result\n",
        "print (\"The reversed string list is : \", (res))"
      ],
      "metadata": {
        "colab": {
          "base_uri": "https://localhost:8080/"
        },
        "id": "MCJHwWFRXemq",
        "outputId": "52b05105-96c2-40cc-ed75-165704f00e8d"
      },
      "execution_count": null,
      "outputs": [
        {
          "output_type": "stream",
          "name": "stdout",
          "text": [
            "The original list is :  ['life', 'is', 'too', 'short']\n",
            "The reversed string list is :  ['efil', 'si', 'oot', 'trohs']\n"
          ]
        }
      ]
    },
    {
      "cell_type": "markdown",
      "source": [
        "**Dictionary**\n",
        "\n",
        "---"
      ],
      "metadata": {
        "id": "cajknClVY5Wm"
      }
    },
    {
      "cell_type": "code",
      "source": [
        "# a_creating a dictionary\n",
        "\n",
        "#creating new dic\n",
        "my_dict = {\n",
        "    'names': ['mango', 'lemon'], \n",
        "    'color': ['yellow', 'green'], \n",
        "    'taste': ['sweet', 'sour']\n",
        "    }\n",
        "\n",
        "#print using get() fun\n",
        "print(my_dict)\n",
        "print(my_dict.get('names'))\n",
        "print(my_dict.get('color'))\n",
        "print(my_dict.get('taste'))\n",
        "\n",
        "#my_dict['names'] = 'apple'       #removing previous value\n",
        "#print(my_dict)\n",
        "\n",
        "#adding new value\n",
        "my_dict['names'].append('apple')  #without removing previous value\n",
        "print(my_dict)\n",
        "\n",
        "\n",
        "# b_adding a new key\n",
        "\n",
        "my_dict['availability'] = ['polashi bazar', 'kawran bazar'] \n",
        "print(my_dict)\n",
        "\n"
      ],
      "metadata": {
        "colab": {
          "base_uri": "https://localhost:8080/"
        },
        "id": "-9rYZyeoZEQb",
        "outputId": "829b413f-e37c-471b-8239-5f51989421ea"
      },
      "execution_count": null,
      "outputs": [
        {
          "output_type": "stream",
          "name": "stdout",
          "text": [
            "{'names': ['mango', 'lemon'], 'color': ['yellow', 'green'], 'taste': ['sweet', 'sour']}\n",
            "['mango', 'lemon']\n",
            "['yellow', 'green']\n",
            "['sweet', 'sour']\n",
            "{'names': ['mango', 'lemon', 'apple'], 'color': ['yellow', 'green'], 'taste': ['sweet', 'sour']}\n",
            "{'names': ['mango', 'lemon', 'apple'], 'color': ['yellow', 'green'], 'taste': ['sweet', 'sour'], 'availability': ['polashi bazar', 'kawran bazar']}\n"
          ]
        }
      ]
    },
    {
      "cell_type": "code",
      "source": [
        "# c_key exist or not\n",
        "\n",
        "\n",
        "#user defied fun()\n",
        "def check_key(my_dict, key):\n",
        "  if key in my_dict.keys():\n",
        "    print(\"present in dictionary. operation successful\")\n",
        "  else:\n",
        "    print(\"not present in the dictionary. operation denied\")\n",
        "\n",
        "#driver fun()\n",
        "key = 'color'\n",
        "check_key(my_dict, key)\n",
        "\n",
        "key = 'price'\n",
        "check_key(my_dict, key)\n",
        "\n"
      ],
      "metadata": {
        "colab": {
          "base_uri": "https://localhost:8080/"
        },
        "id": "rlvPXln5IZB5",
        "outputId": "e8f031e8-ebf5-4e94-dbad-6dbaa8d89566"
      },
      "execution_count": null,
      "outputs": [
        {
          "output_type": "stream",
          "name": "stdout",
          "text": [
            "present in dictionary. operation successful\n",
            "not present in the dictionary. operation denied\n"
          ]
        }
      ]
    },
    {
      "cell_type": "code",
      "source": [
        "# d_accessing by index num\n",
        "\n",
        "print(list(my_dict)[0])\n",
        "print(list(my_dict)[1])\n",
        "print(list(my_dict)[2])\n",
        "print(list(my_dict)[3])"
      ],
      "metadata": {
        "colab": {
          "base_uri": "https://localhost:8080/"
        },
        "id": "5gNOg09cNbvq",
        "outputId": "f0ba4a78-1733-4c6c-96b0-057898e0bc52"
      },
      "execution_count": null,
      "outputs": [
        {
          "output_type": "stream",
          "name": "stdout",
          "text": [
            "names\n",
            "color\n",
            "taste\n",
            "availability\n"
          ]
        }
      ]
    },
    {
      "cell_type": "code",
      "source": [
        "# e_dictionary using loop\n",
        "\n",
        "print(\"lists of keys: \")\n",
        "\n",
        "for keys in my_dict.keys():\n",
        "  print(keys)\n",
        "\n",
        "\n",
        "print(\"lists of values: \")\n",
        "\n",
        "for values in my_dict.values():\n",
        "  print(values)"
      ],
      "metadata": {
        "colab": {
          "base_uri": "https://localhost:8080/"
        },
        "id": "CzaJAbLgUpeH",
        "outputId": "c014366e-8578-4f0f-980e-07f31bfc24b9"
      },
      "execution_count": null,
      "outputs": [
        {
          "output_type": "stream",
          "name": "stdout",
          "text": [
            "lists of keys: \n",
            "names\n",
            "color\n",
            "taste\n",
            "availability\n",
            "lists of values: \n",
            "['mango', 'lemon', 'apple']\n",
            "['yellow', 'green']\n",
            "['sweet', 'sour']\n",
            "['polashi bazar', 'kawran bazar']\n"
          ]
        }
      ]
    },
    {
      "cell_type": "code",
      "source": [
        "# f_keys & the values is doubled of keys\n",
        "\n",
        "new_dict = dict()\n",
        "for i in range(1, 10):\n",
        "  new_dict[i] = i**2\n",
        "print(new_dict)"
      ],
      "metadata": {
        "colab": {
          "base_uri": "https://localhost:8080/"
        },
        "id": "YvHEOghWW-QZ",
        "outputId": "965f847a-8029-4525-d0a7-70773e21d344"
      },
      "execution_count": null,
      "outputs": [
        {
          "output_type": "stream",
          "name": "stdout",
          "text": [
            "{1: 1, 2: 4, 3: 9, 4: 16, 5: 25, 6: 36, 7: 49, 8: 64, 9: 81}\n"
          ]
        }
      ]
    },
    {
      "cell_type": "code",
      "source": [
        "# g_extracting keys into a new dictionary\n",
        "\n",
        "print(my_dict)\n",
        "\n",
        "keys = ['names', 'color', 'taste']\n",
        "\n",
        "new_dict = {i : my_dict[i] for i in keys}\n",
        "\n",
        "print(new_dict)"
      ],
      "metadata": {
        "colab": {
          "base_uri": "https://localhost:8080/"
        },
        "id": "LVCIKbCTaa55",
        "outputId": "2c5ceec4-4418-4244-a0e8-9c3b808e606f"
      },
      "execution_count": null,
      "outputs": [
        {
          "output_type": "stream",
          "name": "stdout",
          "text": [
            "{'names': ['mango', 'lemon', 'apple'], 'color': ['yellow', 'green'], 'taste': ['sweet', 'sour'], 'availability': ['polashi bazar', 'kawran bazar']}\n",
            "{'names': ['mango', 'lemon', 'apple'], 'color': ['yellow', 'green'], 'taste': ['sweet', 'sour']}\n"
          ]
        }
      ]
    },
    {
      "cell_type": "code",
      "source": [
        "# h_rename keys in dictionary\n",
        "\n",
        "print(new_dict)\n",
        "\n",
        "new_dict['new_name'] = new_dict.pop('names') \n",
        "\n",
        "print(new_dict)         \n",
        "\n",
        "#       ??? why in the last ??? why not in previous order? "
      ],
      "metadata": {
        "colab": {
          "base_uri": "https://localhost:8080/"
        },
        "id": "TiQ3N6rrb-Sw",
        "outputId": "21b912f3-432f-4df7-9b32-c0dde7f75e48"
      },
      "execution_count": null,
      "outputs": [
        {
          "output_type": "stream",
          "name": "stdout",
          "text": [
            "{'names': ['mango', 'lemon', 'apple'], 'color': ['yellow', 'green'], 'taste': ['sweet', 'sour']}\n",
            "{'color': ['yellow', 'green'], 'taste': ['sweet', 'sour'], 'new_name': ['mango', 'lemon', 'apple']}\n"
          ]
        }
      ]
    },
    {
      "cell_type": "code",
      "source": [
        "# i_print only keys\n",
        "\n",
        "print(list(new_dict)[0])\n",
        "print(list(new_dict)[1])\n",
        "print(list(new_dict)[2])\n",
        "\n",
        "# or\n",
        "\n",
        "for values in new_dict.keys():\n",
        "  print(keys)"
      ],
      "metadata": {
        "colab": {
          "base_uri": "https://localhost:8080/"
        },
        "id": "E7mlVSxrdZW3",
        "outputId": "3f6c3f55-a6c1-4ffe-ffdc-80ad58543c8a"
      },
      "execution_count": null,
      "outputs": [
        {
          "output_type": "stream",
          "name": "stdout",
          "text": [
            "color\n",
            "taste\n",
            "new_name\n",
            "['names', 'color', 'taste']\n",
            "['names', 'color', 'taste']\n",
            "['names', 'color', 'taste']\n"
          ]
        }
      ]
    },
    {
      "cell_type": "code",
      "source": [
        "# j_print only values\n",
        "\n",
        "for values in new_dict.values():\n",
        "  print(values)"
      ],
      "metadata": {
        "colab": {
          "base_uri": "https://localhost:8080/"
        },
        "id": "GqUdXhqKeCfN",
        "outputId": "46cdcc72-7ab0-448e-ac9e-9ba2efd6380f"
      },
      "execution_count": null,
      "outputs": [
        {
          "output_type": "stream",
          "name": "stdout",
          "text": [
            "['yellow', 'green']\n",
            "['sweet', 'sour']\n",
            "['mango', 'lemon', 'apple']\n"
          ]
        }
      ]
    },
    {
      "cell_type": "markdown",
      "source": [
        "**Loops**\n",
        "\n",
        "---\n",
        "\n"
      ],
      "metadata": {
        "id": "QV82U5MHeq_8"
      }
    },
    {
      "cell_type": "code",
      "source": [
        "# a_numbers using while loop\n",
        "\n",
        "num = 10\n",
        "i = 0\n",
        "\n",
        "while i <= num:\n",
        "  print(i)\n",
        "  i += 1"
      ],
      "metadata": {
        "colab": {
          "base_uri": "https://localhost:8080/"
        },
        "id": "kEfjYw5MeuoF",
        "outputId": "64ce852d-b1d3-4475-8185-baa3615addf8"
      },
      "execution_count": null,
      "outputs": [
        {
          "output_type": "stream",
          "name": "stdout",
          "text": [
            "0\n",
            "1\n",
            "2\n",
            "3\n",
            "4\n",
            "5\n",
            "6\n",
            "7\n",
            "8\n",
            "9\n",
            "10\n"
          ]
        }
      ]
    },
    {
      "cell_type": "code",
      "source": [
        "# b_multiplication table\n",
        "\n",
        "num = 12\n",
        "\n",
        "for i in range (1,10):\n",
        "  print(num, 'X', i, \"=\", num*i)\n",
        "\n",
        "\n",
        "  #         ??? why not *10 ???"
      ],
      "metadata": {
        "colab": {
          "base_uri": "https://localhost:8080/"
        },
        "id": "S3b10ITulMfG",
        "outputId": "622e78f5-c569-4466-99f9-596c8ab2ca54"
      },
      "execution_count": null,
      "outputs": [
        {
          "output_type": "stream",
          "name": "stdout",
          "text": [
            "12 X 1 = 12\n",
            "12 X 2 = 24\n",
            "12 X 3 = 36\n",
            "12 X 4 = 48\n",
            "12 X 5 = 60\n",
            "12 X 6 = 72\n",
            "12 X 7 = 84\n",
            "12 X 8 = 96\n",
            "12 X 9 = 108\n"
          ]
        }
      ]
    },
    {
      "cell_type": "code",
      "source": [
        "# c_numbers using loop\n",
        "\n",
        "lst = [2, 4, 6, 9, 5, 3, 11, 17, 23, 27, 30]\n",
        "\n",
        "for i in lst:\n",
        "  print(i)"
      ],
      "metadata": {
        "colab": {
          "base_uri": "https://localhost:8080/"
        },
        "id": "5Md6GBRymJ8Z",
        "outputId": "90bbbdcb-000d-4ff9-ae5a-f3e5a43c20f8"
      },
      "execution_count": null,
      "outputs": [
        {
          "output_type": "stream",
          "name": "stdout",
          "text": [
            "2\n",
            "4\n",
            "6\n",
            "9\n",
            "5\n",
            "3\n",
            "11\n",
            "17\n",
            "23\n",
            "27\n",
            "30\n"
          ]
        }
      ]
    },
    {
      "cell_type": "code",
      "source": [
        "# d_reverse list using loop\n",
        "\n",
        "num_list=[1,2,3,4,5]\n",
        "# new reversed list using as a container\n",
        "new_list=[]          \n",
        "for i in range(len(num_list)):\n",
        "    new_list.insert(i,num_list[-1])\n",
        "    num_list.pop(-1)\n",
        "    #see how loops are iterating\n",
        "    print(new_list)       \n",
        "\n",
        "\n",
        "print(\"so the final list is : \", new_list)"
      ],
      "metadata": {
        "colab": {
          "base_uri": "https://localhost:8080/"
        },
        "id": "qqNxTDtGo-Wf",
        "outputId": "b75c96d5-267d-4088-bc2b-7d882e4219a9"
      },
      "execution_count": null,
      "outputs": [
        {
          "output_type": "stream",
          "name": "stdout",
          "text": [
            "[5]\n",
            "[5, 4]\n",
            "[5, 4, 3]\n",
            "[5, 4, 3, 2]\n",
            "[5, 4, 3, 2, 1]\n",
            "so the final list is :  [5, 4, 3, 2, 1]\n"
          ]
        }
      ]
    },
    {
      "cell_type": "code",
      "source": [
        "# e_reverse order using loop\n",
        "\n",
        "for i in range(-10, 0):\n",
        "    print(i)"
      ],
      "metadata": {
        "colab": {
          "base_uri": "https://localhost:8080/"
        },
        "id": "NYAnLiiaqzHD",
        "outputId": "79a430b6-8d59-40b8-e252-255cf206b0d3"
      },
      "execution_count": null,
      "outputs": [
        {
          "output_type": "stream",
          "name": "stdout",
          "text": [
            "-10\n",
            "-9\n",
            "-8\n",
            "-7\n",
            "-6\n",
            "-5\n",
            "-4\n",
            "-3\n",
            "-2\n",
            "-1\n"
          ]
        }
      ]
    },
    {
      "cell_type": "code",
      "source": [
        "# f_factorial of given number using recursion fun()\n",
        "\n",
        "num = int(input(\"Enter a number: \"))\n",
        "Fact = 1\n",
        "for i in range(1, num + 1):\n",
        "    Fact = Fact * i\n",
        "print(\"The Factorial of\",num,\"is\",Fact)"
      ],
      "metadata": {
        "colab": {
          "base_uri": "https://localhost:8080/"
        },
        "id": "BNGvUS7jrd2c",
        "outputId": "ccfb46c9-bd1f-4de0-ba2d-1c702173f92a"
      },
      "execution_count": null,
      "outputs": [
        {
          "output_type": "stream",
          "name": "stdout",
          "text": [
            "Enter a number: 7\n",
            "The Factorial of 7 is 5040\n"
          ]
        }
      ]
    },
    {
      "cell_type": "code",
      "source": [
        "# g_elements off odd index list\n",
        "\n",
        "num_list = [2, 5, 8, 9, 11, 12, 17, 20]\n",
        "\n",
        "for i in range(1, len(num_list), 2):      #     ??? why is this condition ???\n",
        "\n",
        "  print(num_list[i])\n",
        "\n"
      ],
      "metadata": {
        "colab": {
          "base_uri": "https://localhost:8080/"
        },
        "id": "rwE0dwVX0cw3",
        "outputId": "23c2883a-b91d-41ab-99d7-4a5c1079344f"
      },
      "execution_count": null,
      "outputs": [
        {
          "output_type": "stream",
          "name": "stdout",
          "text": [
            "5\n",
            "9\n",
            "12\n",
            "20\n"
          ]
        }
      ]
    },
    {
      "cell_type": "code",
      "source": [
        "# h_cube root using loop\n",
        "\n",
        "regno = int(input('enter the limit '))\n",
        "\n",
        "i = 1\n",
        "\n",
        "while i <= regno:\n",
        "  cube = 0\n",
        "  cube = i * i * i\n",
        "\n",
        "  print(\"cube of %d is : %d\" %(i, cube))\n",
        "\n",
        "  i = i + 1"
      ],
      "metadata": {
        "colab": {
          "base_uri": "https://localhost:8080/"
        },
        "id": "t0oA4BET65lK",
        "outputId": "f018019b-caf1-48c9-e3b7-e08e76fee067"
      },
      "execution_count": null,
      "outputs": [
        {
          "output_type": "stream",
          "name": "stdout",
          "text": [
            "enter the limit 5\n",
            "cube of 1 is : 1\n",
            "cube of 2 is : 8\n",
            "cube of 3 is : 27\n",
            "cube of 4 is : 64\n",
            "cube of 5 is : 125\n"
          ]
        }
      ]
    },
    {
      "cell_type": "markdown",
      "source": [
        "**User Defined Function**\n",
        "\n",
        "---\n",
        "\n",
        "\n",
        "\n",
        "---\n",
        "\n"
      ],
      "metadata": {
        "id": "00gbkVbbhude"
      }
    },
    {
      "cell_type": "code",
      "source": [
        "# returning my unique class ID using user defined function\n",
        "\n",
        "nums = [2, 0, 2, 3, 1, 0, 4, 6]\n",
        "\n",
        "#num_list = [int(i) for i in nums.split(',')]\n",
        "\n",
        "def uniq_num(nums):\n",
        "  uniq = []\n",
        "\n",
        "  for i in nums:\n",
        "    if i in uniq:                 # if i not in unique:\n",
        "      continue\n",
        "    else:\n",
        "      uniq.append(i)\n",
        "  \n",
        "  return uniq\n",
        "\n",
        "print(uniq_num(nums))\n",
        "\n"
      ],
      "metadata": {
        "colab": {
          "base_uri": "https://localhost:8080/"
        },
        "id": "O91wHMHahysL",
        "outputId": "2adc800a-ab6b-4100-8d6b-3c3ac2bff780"
      },
      "execution_count": null,
      "outputs": [
        {
          "output_type": "stream",
          "name": "stdout",
          "text": [
            "[2, 0, 3, 1, 4, 6]\n"
          ]
        }
      ]
    }
  ]
}